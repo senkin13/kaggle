{
 "cells": [
  {
   "cell_type": "code",
   "execution_count": null,
   "metadata": {},
   "outputs": [],
   "source": [
    "%%time\n",
    "import pandas as pd\n",
    "import numpy as np\n",
    "import gc\n",
    "import os\n",
    "import random\n",
    "import pickle\n",
    "from sklearn.model_selection import StratifiedKFold,KFold\n",
    "from scipy.sparse import hstack,vstack,csr_matrix,save_npz,load_npz\n",
    "from sklearn.decomposition import TruncatedSVD\n",
    "import lightgbm as lgb\n",
    "\n",
    "############################################################################\n",
    "#----- work folder -----\n",
    "############################################################################\n",
    "settings = json.load(open('./settings.json'))\n",
    "\n",
    "input_path = settings['input_path']\n",
    "features_path = settings['features_path']\n",
    "model_path = settings['model_path']\n",
    "sub_path = settings['sub_path']"
   ]
  },
  {
   "cell_type": "markdown",
   "metadata": {},
   "source": [
    "# transform target by tsvd"
   ]
  },
  {
   "cell_type": "code",
   "execution_count": null,
   "metadata": {},
   "outputs": [],
   "source": [
    "train_multi_targets = pd.read_hdf(input_path+'train_multi_targets.h5')\n",
    "tsvd = TruncatedSVD(n_components=1000)\n",
    "data_reduced = tsvd.fit_transform(train_multi_targets.values)"
   ]
  },
  {
   "cell_type": "markdown",
   "metadata": {},
   "source": [
    "# load sparse matrix svd"
   ]
  },
  {
   "cell_type": "code",
   "execution_count": null,
   "metadata": {},
   "outputs": [],
   "source": [
    "%%time\n",
    "\n",
    "train_df = pd.read_feather(feature_path+'train_multi_inputs_id.feather')\n",
    "test_df = pd.read_feather(feature_path+'test_multi_inputs_id.feather')\n",
    "multi_inputs_svd = np.load(feature_path+'multi_inputs_svd_100.npy')\n",
    "train_multi_X = multi_inputs_svd[:len(train_df)]\n",
    "test_multi_X = multi_inputs_svd[len(train_df):]\n",
    "train_multi_y = data_reduced  "
   ]
  },
  {
   "cell_type": "code",
   "execution_count": null,
   "metadata": {},
   "outputs": [],
   "source": [
    "%%time\n",
    "\n",
    "# ====================================================\n",
    "# lightgbm\n",
    "# ====================================================\n",
    "def lgb_kfold(train_df, test_df, train_multi_X, train_multi_y, test_multi_X, folds):\n",
    "    params = {    \n",
    "        'objective' : 'rmse',\n",
    "        'metric' : 'rmse', \n",
    "         'num_leaves': 33,\n",
    "         'min_data_in_leaf': 30,\n",
    "         'learning_rate': 0.02,\n",
    "         'max_depth': 6,\n",
    "         \"boosting\": \"gbdt\",\n",
    "         \"feature_fraction\": 0.9,\n",
    "         \"bagging_freq\": 1,\n",
    "         \"bagging_fraction\": 0.9,\n",
    "         \"bagging_seed\": 42,\n",
    "         \"verbosity\": -1,        \n",
    "                 }      \n",
    "    oof_preds = np.zeros(train_df.shape[0])\n",
    "    sub_preds = np.zeros(test_df.shape[0])\n",
    "    cv_corr = []\n",
    "    \n",
    "    for n_fold, (train_idx, valid_idx) in enumerate(folds.split(train_df)): \n",
    "        print ('n_fold:',n_fold)\n",
    "        train_x = train_multi_X[train_idx]\n",
    "        valid_x = train_multi_X[valid_idx]\n",
    "        train_y = train_multi_y[train_idx]\n",
    "        valid_y = train_multi_y[valid_idx]\n",
    "\n",
    "        dtrain = lgb.Dataset(\n",
    "            train_x, label=train_y,)\n",
    "        dval = lgb.Dataset(\n",
    "            valid_x, label=valid_y, reference=dtrain,)\n",
    "        bst = lgb.train(\n",
    "            params, dtrain, num_boost_round=100000,\n",
    "            valid_sets=[dval],verbose_eval=1000, early_stopping_rounds=100,\n",
    "        )\n",
    "\n",
    "        oof_preds[valid_idx] = bst.predict(valid_x, num_iteration=bst.best_iteration)\n",
    "        sub_preds += bst.predict(test_multi_X, num_iteration=bst.best_iteration) / folds.n_splits         \n",
    "        \n",
    "    return oof_preds,sub_preds"
   ]
  },
  {
   "cell_type": "code",
   "execution_count": null,
   "metadata": {},
   "outputs": [],
   "source": [
    "%%time\n",
    "seed = 666\n",
    "folds = KFold(n_splits= 5, shuffle=True, random_state=seed)  \n",
    "train_preds = []\n",
    "test_preds = []\n",
    "for i in range(1000):\n",
    "    print('=====================')\n",
    "    print(i)\n",
    "    train_multi_y_single = train_multi_y[:,i]\n",
    "    oof_preds,sub_preds = lgb_kfold(train_df, test_df, train_multi_X, train_multi_y_single, test_multi_X, folds)\n",
    "    train_preds.append(oof_preds)\n",
    "    test_preds.append(sub_preds)"
   ]
  },
  {
   "cell_type": "code",
   "execution_count": null,
   "metadata": {},
   "outputs": [],
   "source": [
    "def correlation_score(y_true, y_pred):\n",
    "    \"\"\"Scores the predictions according to the competition rules. \n",
    "    \n",
    "    It is assumed that the predictions are not constant.\n",
    "    \n",
    "    Returns the average of each sample's Pearson correlation coefficient\"\"\"\n",
    "    if type(y_true) == pd.DataFrame: y_true = y_true.values\n",
    "    if type(y_pred) == pd.DataFrame: y_pred = y_pred.values\n",
    "    corrsum = 0\n",
    "    for i in range(len(y_true)):\n",
    "        corrsum += np.corrcoef(y_true[i], y_pred[i])[1, 0]\n",
    "    return corrsum / len(y_true)\n",
    "\n",
    "oof_preds = np.zeros((train_multi_X.shape[0], 1000))\n",
    "for n in range(len(train_preds)):\n",
    "    oof_preds[:,n] =  train_preds[n]\n",
    "\n",
    "sub_preds = np.zeros((test_multi_X.shape[0], 1000))\n",
    "for n in range(len(test_preds)):\n",
    "    sub_preds[:,n] =  test_preds[n]  \n",
    "\n",
    "oof_preds_original = tsvd.inverse_transform(oof_preds)\n",
    "sub_preds_original = tsvd.inverse_transform(sub_preds)    "
   ]
  },
  {
   "cell_type": "code",
   "execution_count": null,
   "metadata": {},
   "outputs": [],
   "source": [
    "lgb = np.concatenate([oof_preds_original,sub_preds_original],axis=0)\n",
    "\n",
    "tsvd = TruncatedSVD(n_components=100, algorithm='arpack')\n",
    "lgb_svd = tsvd.fit_transform(lgb)\n",
    "np.save(feature_path+'multi_lgb_svd_100.npy', lgb4_svd)"
   ]
  }
 ],
 "metadata": {
  "kernelspec": {
   "display_name": "Python 3",
   "language": "python",
   "name": "python3"
  },
  "language_info": {
   "codemirror_mode": {
    "name": "ipython",
    "version": 3
   },
   "file_extension": ".py",
   "mimetype": "text/x-python",
   "name": "python",
   "nbconvert_exporter": "python",
   "pygments_lexer": "ipython3",
   "version": "3.8.10"
  }
 },
 "nbformat": 4,
 "nbformat_minor": 4
}
