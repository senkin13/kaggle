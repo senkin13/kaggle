{
 "cells": [
  {
   "cell_type": "code",
   "execution_count": null,
   "id": "ce34f31b-86a9-43f1-bbd1-69912209d1ec",
   "metadata": {},
   "outputs": [],
   "source": [
    "import gc\n",
    "import pandas as pd\n",
    "import numpy as np\n",
    "import mudata\n",
    "from mudata import AnnData, MuData\n",
    "import scanpy as sc\n",
    "import muon as mu\n",
    "from scipy.sparse import hstack,vstack,csr_matrix,save_npz,load_npz\n",
    "from sklearn.decomposition import NMF,LatentDirichletAllocation,TruncatedSVD\n",
    "from muon import prot as pt\n",
    "import json\n",
    "\n",
    "############################################################################\n",
    "#----- work folder -----\n",
    "############################################################################\n",
    "settings = json.load(open('./settings.json'))\n",
    "\n",
    "input_path = settings['input_path']\n",
    "features_path = settings['features_path']\n",
    "model_path = settings['model_path']\n",
    "sub_path = settings['sub_path']\n"
   ]
  },
  {
   "cell_type": "markdown",
   "id": "fef27791-5f21-480c-ba07-c84005b9a1af",
   "metadata": {},
   "source": [
    "# save transformed cite inputs to csr_matrix and id list"
   ]
  },
  {
   "cell_type": "code",
   "execution_count": null,
   "id": "b7a3a448-4901-4c75-9fb5-a46001721445",
   "metadata": {},
   "outputs": [],
   "source": [
    "%%time\n",
    "train_multi_inputs = pd.read_hdf(input_path+'train_multi_inputs.h5').reset_index(drop=True)\n",
    "metadata = pd.read_csv(input_path+'metadata.csv.zip')\n",
    "\n",
    "# id list\n",
    "train_multi_inputs_id = pd.read_hdf(input_path+'train_multi_inputs.h5').reset_index()[['cell_id']]\n",
    "train_multi_inputs_id = train_multi_inputs_id.merge(metadata,on=['cell_id'],how='left')\n",
    "train_multi_inputs_id = train_multi_inputs_id.drop(['technology'],axis=1)\n",
    "train_multi_inputs_id.to_feather(feature_path+'train_multi_inputs_id.feather')\n",
    "\n",
    "# csr_matrix\n",
    "train_multi_inputs_sparse = csr_matrix(train_multi_inputs.to_numpy())\n",
    "save_npz(feature_path+\"train_multi_inputs_sparse.npz\", train_multi_inputs_sparse)\n",
    "\n",
    "del train_multi_inputs,train_multi_inputs_id\n",
    "gc.collect()\n",
    "\n",
    "test_multi_inputs = pd.read_hdf(input_path+'test_multi_inputs.h5').reset_index(drop=True)\n",
    "\n",
    "# id list\n",
    "test_multi_inputs_id = pd.read_hdf(input_path+'test_multi_inputs.h5').reset_index()[['cell_id']]\n",
    "test_multi_inputs_id = test_multi_inputs_id.merge(metadata,on=['cell_id'],how='left')\n",
    "test_multi_inputs_id = test_multi_inputs_id.drop(['technology'],axis=1)\n",
    "test_multi_inputs_id.to_feather(feature_path+'test_multi_inputs_id.feather')\n",
    "\n",
    "# csr_matrix\n",
    "test_multi_inputs_sparse = csr_matrix(test_multi_inputs.to_numpy())\n",
    "save_npz(feature_path+\"test_multi_inputs_sparse.npz\", test_multi_inputs_sparse)\n",
    "\n",
    "del test_multi_inputs,test_multi_inputs_id\n",
    "gc.collect()\n",
    "\n",
    "multi_inputs_sparse = vstack([train_multi_inputs_sparse,test_multi_inputs_sparse])\n",
    "save_npz(feature_path+\"multi_inputs_sparse.npz\", multi_inputs_sparse)\n",
    "\n",
    "del train_multi_inputs_sparse,test_multi_inputs_sparse,multi_inputs_sparse\n",
    "gc.collect()"
   ]
  },
  {
   "cell_type": "markdown",
   "id": "ca4dc71c-0028-4f20-abf9-a5ba7da6fb64",
   "metadata": {},
   "source": [
    "# sparse matrix to 100d tsvd"
   ]
  },
  {
   "cell_type": "code",
   "execution_count": null,
   "id": "7cbdd317-2f45-4b8f-8e7b-fe050c828936",
   "metadata": {},
   "outputs": [],
   "source": [
    "%%time\n",
    "\n",
    "multi_inputs_sparse = load_npz(feature_path+\"multi_inputs_sparse.npz\")\n",
    "tsvd = TruncatedSVD(n_components=100, algorithm='arpack')\n",
    "multi_inputs_svd = tsvd.fit_transform(multi_inputs_sparse)\n",
    "np.save(feature_path+'multi_inputs_svd_100.npy', multi_inputs_svd)"
   ]
  },
  {
   "cell_type": "markdown",
   "id": "4b71ece8-eaa5-4781-b503-90aa4ebb2275",
   "metadata": {},
   "source": [
    "# save raw count cite inputs to csr_matrix "
   ]
  },
  {
   "cell_type": "code",
   "execution_count": null,
   "id": "e34dadf8-0023-409a-b3fc-d1b061d2c6ba",
   "metadata": {},
   "outputs": [],
   "source": [
    "%%time\n",
    "train_multi_inputs_raw = pd.read_hdf(input_path+'train_multi_inputs_raw.h5').reset_index(drop=True)\n",
    "\n",
    "# id list\n",
    "train_multi_inputs_id_raw = pd.read_hdf(input_path+'train_multi_inputs_raw.h5').reset_index()[['cell_id']]\n",
    "train_multi_inputs_id_raw.to_feather(feature_path+'train_multi_inputs_id_raw.feather')\n",
    "\n",
    "# csr_matrix\n",
    "train_multi_inputs_raw_sparse = csr_matrix(train_multi_inputs_raw.to_numpy())\n",
    "save_npz(feature_path+\"train_multi_inputs_raw_sparse.npz\", train_multi_inputs_raw_sparse)\n",
    "\n",
    "del train_multi_inputs_raw,train_multi_inputs_id\n",
    "gc.collect()\n",
    "\n",
    "test_multi_inputs_raw = pd.read_hdf(input_path+'test_multi_inputs_raw.h5').reset_index(drop=True)\n",
    "\n",
    "# id list\n",
    "test_multi_inputs_id_raw = pd.read_hdf(input_path+'test_multi_inputs_raw.h5').reset_index()[['cell_id']]\n",
    "test_multi_inputs_id_raw.to_feather(feature_path+'test_multi_inputs_id_raw.feather')\n",
    "\n",
    "# csr_matrix\n",
    "test_multi_inputs_raw_sparse = csr_matrix(test_multi_inputs_raw.to_numpy())\n",
    "save_npz(feature_path+\"test_multi_inputs_raw_sparse.npz\", test_multi_inputs_raw_sparse)\n",
    "\n",
    "del test_multi_inputs_raw\n",
    "gc.collect()\n",
    "\n",
    "multi_inputs_raw_sparse = vstack([train_multi_inputs_raw_sparse,test_multi_inputs_raw_sparse])\n",
    "save_npz(feature_path+\"multi_inputs_raw_sparse.npz\", multi_inputs_raw_sparse)\n",
    "\n",
    "del train_multi_inputs_raw_sparse,test_multi_inputs_raw_sparse,multi_inputs_raw_sparse\n",
    "gc.collect()"
   ]
  },
  {
   "cell_type": "markdown",
   "id": "6b6f6c58-3bdc-455a-96ca-437ae02fe687",
   "metadata": {},
   "source": [
    "# centered log ratio(clr) for raw count"
   ]
  },
  {
   "cell_type": "code",
   "execution_count": null,
   "id": "4dba0b72-ba94-47bc-951c-741f95e4ca18",
   "metadata": {},
   "outputs": [],
   "source": [
    "%%time\n",
    "print ('load train_multi_inputs_raw')\n",
    "train_rna_df = pd.read_hdf(input_path+'train_multi_inputs_raw.h5')\n",
    "print ('load test_multi_inputs_raw')\n",
    "test_rna_df = pd.read_hdf(input_path+'test_multi_inputs_raw.h5')\n",
    "print ('concat multi_inputs_raw')\n",
    "rna_df = pd.concat([train_rna_df,test_rna_df])\n",
    "\n",
    "del train_rna_df,test_rna_df\n",
    "gc.collect()\n",
    "\n",
    "print ('AnnData')\n",
    "rna = AnnData(csr_matrix(rna_df))\n",
    "rna.obs_names = rna_df.index.values\n",
    "rna.var_names = rna_df.columns.values\n",
    "\n",
    "del rna_df\n",
    "gc.collect()\n",
    "\n",
    "pt.pp.clr(rna)\n",
    "\n",
    "multi_inputs_clr_sparse = rna.X\n",
    "save_npz(feature_path+'multi_inputs_clr_sparse.npz', multi_inputs_clr_sparse)\n",
    "\n",
    "del multi_inputs_clr_sparse,rna\n",
    "gc.collect()"
   ]
  },
  {
   "cell_type": "markdown",
   "id": "248552ce-6c2e-4e7b-9c20-71ad7818815d",
   "metadata": {},
   "source": [
    "# clr to 100d tsvd"
   ]
  },
  {
   "cell_type": "code",
   "execution_count": null,
   "id": "e57a3fc6-b4f5-4d19-af8e-5e81df98fa82",
   "metadata": {},
   "outputs": [],
   "source": [
    "%%time\n",
    "\n",
    "multi_inputs_sparse = load_npz(feature_path+\"multi_inputs_clr_sparse.npz\")\n",
    "tsvd = TruncatedSVD(n_components=100, algorithm='arpack')\n",
    "multi_inputs_svd = tsvd.fit_transform(multi_inputs_sparse)\n",
    "np.save(feature_path+'multi_inputs_svd_clr_100.npy', multi_inputs_svd)"
   ]
  }
 ],
 "metadata": {
  "kernelspec": {
   "display_name": "Python 3",
   "language": "python",
   "name": "python3"
  },
  "language_info": {
   "codemirror_mode": {
    "name": "ipython",
    "version": 3
   },
   "file_extension": ".py",
   "mimetype": "text/x-python",
   "name": "python",
   "nbconvert_exporter": "python",
   "pygments_lexer": "ipython3",
   "version": "3.8.10"
  }
 },
 "nbformat": 4,
 "nbformat_minor": 5
}
